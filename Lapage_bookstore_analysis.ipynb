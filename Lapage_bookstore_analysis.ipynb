{
  "cells": [
    {
      "attachments": {},
      "cell_type": "markdown",
      "metadata": {
        "id": "E9L6yf0y1RWo"
      },
      "source": [
        "# Projet 6 : Analysez les ventes d'une librairie avec R ou Python"
      ]
    },
    {
      "cell_type": "markdown",
      "metadata": {},
      "source": [
        "Un version retravaillée de ce notebook est également déployé sous Streamlit : https://armeldt-p6streamlit-home-x8ggr7.streamlit.app/"
      ]
    },
    {
      "attachments": {},
      "cell_type": "markdown",
      "metadata": {
        "id": "1CZLvD-F1XLS"
      },
      "source": [
        "## Les données"
      ]
    },
    {
      "cell_type": "code",
      "execution_count": 96,
      "metadata": {
        "id": "G8SoL72oyPWy"
      },
      "outputs": [],
      "source": [
        "import pandas as pd\n",
        "import numpy as np\n",
        "import matplotlib as mtp\n",
        "import matplotlib.pyplot as plt\n",
        "import seaborn as sns\n",
        "import datetime\n",
        "import altair as alt\n",
        "import scipy as sp\n",
        "import statsmodels.api as sm\n",
        "from statsmodels.formula.api import ols"
      ]
    },
    {
      "cell_type": "code",
      "execution_count": null,
      "metadata": {},
      "outputs": [],
      "source": [
        "alt.data_transformers.disable_max_rows()"
      ]
    },
    {
      "cell_type": "code",
      "execution_count": 98,
      "metadata": {},
      "outputs": [],
      "source": [
        "customers = pd.read_csv('Source_données/customers.csv')\n",
        "products = pd.read_csv('Source_données/products.csv')\n",
        "transactions = pd.read_csv('Source_données/transactions.csv')"
      ]
    },
    {
      "cell_type": "code",
      "execution_count": null,
      "metadata": {
        "colab": {
          "base_uri": "https://localhost:8080/",
          "height": 206
        },
        "id": "Y9CZJh8zz2fq",
        "outputId": "4981e4a8-4ad2-4c7b-dcee-1b265634e400"
      },
      "outputs": [],
      "source": [
        "customers.head()"
      ]
    },
    {
      "cell_type": "code",
      "execution_count": null,
      "metadata": {
        "colab": {
          "base_uri": "https://localhost:8080/",
          "height": 206
        },
        "id": "eGAZbERc0q2d",
        "outputId": "4c3faeac-c417-40d9-a8f8-7499813c33a5"
      },
      "outputs": [],
      "source": [
        "products.head()"
      ]
    },
    {
      "cell_type": "code",
      "execution_count": null,
      "metadata": {
        "colab": {
          "base_uri": "https://localhost:8080/",
          "height": 206
        },
        "id": "pv6SPhTm0sz9",
        "outputId": "0e0ca56f-3364-4879-8788-5e672049f9a2"
      },
      "outputs": [],
      "source": [
        "transactions.head()"
      ]
    },
    {
      "attachments": {},
      "cell_type": "markdown",
      "metadata": {
        "id": "j716pcxC1dyK"
      },
      "source": [
        "## Data préparation"
      ]
    },
    {
      "attachments": {},
      "cell_type": "markdown",
      "metadata": {
        "id": "6-r63anmCZHa"
      },
      "source": [
        "### Table Client"
      ]
    },
    {
      "cell_type": "markdown",
      "metadata": {},
      "source": [
        "Sur ce dataframe, on va venir vérifier le type des données, l'unicité de la clé primaire 'client_id' ainsi que la présence de donnée manquantes : "
      ]
    },
    {
      "cell_type": "code",
      "execution_count": null,
      "metadata": {
        "colab": {
          "base_uri": "https://localhost:8080/"
        },
        "id": "Ytgzn6Eb1h-W",
        "outputId": "051a7319-cd68-4eec-8a08-3d04e5e4ac7d"
      },
      "outputs": [],
      "source": [
        "customers.dtypes"
      ]
    },
    {
      "cell_type": "code",
      "execution_count": null,
      "metadata": {
        "colab": {
          "base_uri": "https://localhost:8080/"
        },
        "id": "7z7C8jxkB56q",
        "outputId": "749b705c-b3cb-47ce-87e4-f07fa24da2b3"
      },
      "outputs": [],
      "source": [
        "customers['client_id'].unique().shape"
      ]
    },
    {
      "cell_type": "code",
      "execution_count": null,
      "metadata": {},
      "outputs": [],
      "source": [
        "customers['client_id'].size"
      ]
    },
    {
      "cell_type": "code",
      "execution_count": null,
      "metadata": {
        "colab": {
          "base_uri": "https://localhost:8080/"
        },
        "id": "vY-dxMjR_erC",
        "outputId": "797c970d-4c9d-45c3-905a-af4c2134b0fb"
      },
      "outputs": [],
      "source": [
        "customers.info"
      ]
    },
    {
      "cell_type": "code",
      "execution_count": null,
      "metadata": {
        "colab": {
          "base_uri": "https://localhost:8080/"
        },
        "id": "VysGDd6TDvfO",
        "outputId": "9e322175-997c-4cce-90ce-2e646a192f64"
      },
      "outputs": [],
      "source": [
        "customers.isna().sum(axis = 0)"
      ]
    },
    {
      "attachments": {},
      "cell_type": "markdown",
      "metadata": {},
      "source": [
        "La clé 'client_id' est bien unique (une ligne par client) et le dataframe ne comporte aucunes données vides, on peut donc le considérer comme exploitable pour nos analyses"
      ]
    },
    {
      "attachments": {},
      "cell_type": "markdown",
      "metadata": {
        "id": "3f5apxsGCei3"
      },
      "source": [
        "### Table Produits"
      ]
    },
    {
      "cell_type": "markdown",
      "metadata": {},
      "source": [
        "On va appliquer les mêmes vérifications sur ce dataframe Produit :"
      ]
    },
    {
      "cell_type": "code",
      "execution_count": null,
      "metadata": {
        "colab": {
          "base_uri": "https://localhost:8080/"
        },
        "id": "SZlkelX9ChBp",
        "outputId": "23e613d9-a98a-40c4-ab41-6c3dae899ee1"
      },
      "outputs": [],
      "source": [
        "products.dtypes"
      ]
    },
    {
      "cell_type": "code",
      "execution_count": null,
      "metadata": {
        "colab": {
          "base_uri": "https://localhost:8080/"
        },
        "id": "yWqJLBiKCmbL",
        "outputId": "67c6f94e-8547-49ef-d66a-4c5d244ddf73"
      },
      "outputs": [],
      "source": [
        "products['id_prod'].unique().shape"
      ]
    },
    {
      "cell_type": "code",
      "execution_count": null,
      "metadata": {
        "colab": {
          "base_uri": "https://localhost:8080/"
        },
        "id": "crbVJUmABkQ_",
        "outputId": "4729b7be-e831-47d0-d4db-4cc1754e7eb1"
      },
      "outputs": [],
      "source": [
        "products['categ'].unique().shape"
      ]
    },
    {
      "cell_type": "code",
      "execution_count": null,
      "metadata": {
        "colab": {
          "base_uri": "https://localhost:8080/",
          "height": 424
        },
        "id": "K5rT656YJ2S_",
        "outputId": "bfaa5810-7367-472f-8611-2c5badefc70c"
      },
      "outputs": [],
      "source": [
        "products['id_prod'].size"
      ]
    },
    {
      "cell_type": "code",
      "execution_count": null,
      "metadata": {
        "colab": {
          "base_uri": "https://localhost:8080/"
        },
        "id": "Vm4dhwfYD-CR",
        "outputId": "b05a35ac-d6ca-4893-8ff6-6b68570c4f17"
      },
      "outputs": [],
      "source": [
        "products.isna().sum(axis = 0)"
      ]
    },
    {
      "attachments": {},
      "cell_type": "markdown",
      "metadata": {},
      "source": [
        "La clé primaire de la table produit (id_prod) est également unique (une ligne par produit) et le dataframe ne présente aucunes lignes vides."
      ]
    },
    {
      "attachments": {},
      "cell_type": "markdown",
      "metadata": {
        "id": "XL23txqLCuFD"
      },
      "source": [
        "### Table transactions"
      ]
    },
    {
      "cell_type": "markdown",
      "metadata": {},
      "source": [
        "Enfin on va également appliquer cette logique de vérification sur la table transaction :"
      ]
    },
    {
      "cell_type": "code",
      "execution_count": null,
      "metadata": {
        "colab": {
          "base_uri": "https://localhost:8080/"
        },
        "id": "DyMTsXLxD6tE",
        "outputId": "8e6722b7-7bd1-408b-dd56-763afda35e6a"
      },
      "outputs": [],
      "source": [
        "transactions.dtypes"
      ]
    },
    {
      "cell_type": "code",
      "execution_count": null,
      "metadata": {
        "colab": {
          "base_uri": "https://localhost:8080/"
        },
        "id": "NzSjw5SdCxzK",
        "outputId": "69e527d0-17d5-48e9-bf5c-74e1e73b74fd"
      },
      "outputs": [],
      "source": [
        "transactions.info"
      ]
    },
    {
      "cell_type": "code",
      "execution_count": null,
      "metadata": {
        "colab": {
          "base_uri": "https://localhost:8080/"
        },
        "id": "dRI7fw59DF1q",
        "outputId": "1f24d81f-19f5-4378-a37c-ec74c718fafe"
      },
      "outputs": [],
      "source": [
        "transactions['client_id'].unique().shape"
      ]
    },
    {
      "cell_type": "code",
      "execution_count": null,
      "metadata": {
        "colab": {
          "base_uri": "https://localhost:8080/"
        },
        "id": "Xq95t_mUDWqr",
        "outputId": "ec249a4f-6eb8-4495-b111-c0480d20c8a3"
      },
      "outputs": [],
      "source": [
        "transactions['id_prod'].unique().shape"
      ]
    },
    {
      "attachments": {},
      "cell_type": "markdown",
      "metadata": {
        "id": "yfuVlxGTO2Ww"
      },
      "source": [
        "On constate que la colonne \"date\" est renseignée en type 'object' on va donc la convertir en type 'datetime' pour exploitation future : "
      ]
    },
    {
      "cell_type": "code",
      "execution_count": null,
      "metadata": {
        "colab": {
          "base_uri": "https://localhost:8080/",
          "height": 424
        },
        "id": "roYe6OnJLYrJ",
        "outputId": "78ca2867-a2c9-4fab-a367-e8d4eaf5c4d3"
      },
      "outputs": [],
      "source": [
        "# En essayant de convertir les données au format datetime, une erreur apparait -> on constate que la présence d'entrées \"test\" nous empêche de convertir nos date vers le type datetime \n",
        "\n",
        "transactions[transactions['date'].str.contains('test')]"
      ]
    },
    {
      "cell_type": "markdown",
      "metadata": {},
      "source": [
        "Après avoir isolé ces entrées test, on comprends que ce sont très certainement des essai mis en place par l'equipe de la librairie sur le site (en observant les id produit / id session / id client), on va donc les écarter pour pouvoir exploiter cette table "
      ]
    },
    {
      "cell_type": "code",
      "execution_count": 117,
      "metadata": {
        "id": "w0BbuOhyNcA1"
      },
      "outputs": [],
      "source": [
        "# on va drop les lignes comprenant l'id produit 'T_0'\n",
        "transactions.drop(transactions[transactions.id_prod == 'T_0'].index, inplace=True)"
      ]
    },
    {
      "cell_type": "code",
      "execution_count": null,
      "metadata": {
        "colab": {
          "base_uri": "https://localhost:8080/",
          "height": 50
        },
        "id": "4nfY-2YAOx-2",
        "outputId": "e836cfd2-69d8-4e4b-b0bc-b54475c76328"
      },
      "outputs": [],
      "source": [
        "# puis on vérifie que les valeurs test ont bien disparu\n",
        "transactions[transactions['date'].str.contains('test')]"
      ]
    },
    {
      "cell_type": "code",
      "execution_count": 119,
      "metadata": {
        "id": "F9Bj4eUEO-Jc"
      },
      "outputs": [],
      "source": [
        "#on converti ensuite les valeurs date d'object vers datetime\n",
        "transactions['date'] = pd.to_datetime(transactions['date'])"
      ]
    },
    {
      "cell_type": "code",
      "execution_count": null,
      "metadata": {
        "colab": {
          "base_uri": "https://localhost:8080/"
        },
        "id": "RfbQnyQgS8aq",
        "outputId": "f467fcab-fcbb-4ec6-b487-53ff9f4be911"
      },
      "outputs": [],
      "source": [
        "# enfin on vérifie que la conversion a bien fonctionnée \n",
        "transactions.dtypes"
      ]
    },
    {
      "cell_type": "code",
      "execution_count": null,
      "metadata": {
        "colab": {
          "base_uri": "https://localhost:8080/",
          "height": 206
        },
        "id": "DxTzij22EE8V",
        "outputId": "60a1fcf4-c8d8-48e9-96a5-79a6a3e3f402"
      },
      "outputs": [],
      "source": [
        "transactions.head()"
      ]
    },
    {
      "cell_type": "code",
      "execution_count": null,
      "metadata": {
        "colab": {
          "base_uri": "https://localhost:8080/"
        },
        "id": "q2bUlncuF7Nb",
        "outputId": "9a8cb8ae-7799-4344-f4e9-3c2f84abcbb1"
      },
      "outputs": [],
      "source": [
        "transactions.isna().sum(axis = 0)"
      ]
    },
    {
      "attachments": {},
      "cell_type": "markdown",
      "metadata": {},
      "source": [
        "Puisque la table répertorie des transactions, nous n'avons pas d'unicité a constater, cette dernière présente les bons types de données et aucuns doublons, elle est donc bonne pour être epxloitée dans le cadre de nos analyses."
      ]
    },
    {
      "attachments": {},
      "cell_type": "markdown",
      "metadata": {
        "id": "m6b_67AeDf_z"
      },
      "source": [
        "### Table Globale"
      ]
    },
    {
      "cell_type": "markdown",
      "metadata": {},
      "source": [
        "Afin de pouvoir exploiter pleinement les données que nous avons a disposition nous allons réaliser plusieurs fusions : "
      ]
    },
    {
      "attachments": {},
      "cell_type": "markdown",
      "metadata": {},
      "source": [
        "Dans un premier temps on va enrichir le dataframe Transactions avec les informations de la table product (le prix et la catégorie) et de la table client (birth & sex).\n",
        "\n",
        "On va appeler cette nouvelle table 'Globale'"
      ]
    },
    {
      "cell_type": "code",
      "execution_count": null,
      "metadata": {
        "colab": {
          "base_uri": "https://localhost:8080/",
          "height": 206
        },
        "id": "Fh0g2E6NDxj6",
        "outputId": "9ec2aa49-0acb-422d-b801-b8885ba2377f"
      },
      "outputs": [],
      "source": [
        "fusion1 = pd.merge (transactions, customers, on=\"client_id\", how=\"left\")\n",
        "dfGlobal = pd.merge(fusion1, products, on=\"id_prod\", how=\"left\")\n",
        "dfGlobal.head()"
      ]
    },
    {
      "cell_type": "markdown",
      "metadata": {},
      "source": [
        "Puis on va vérifier l'intégrité des données comme pour nos tables source : "
      ]
    },
    {
      "cell_type": "code",
      "execution_count": null,
      "metadata": {
        "colab": {
          "base_uri": "https://localhost:8080/"
        },
        "id": "q2TAGSYMCP30",
        "outputId": "10f775ca-52ac-419d-91ad-572669d69e0c"
      },
      "outputs": [],
      "source": [
        "dfGlobal.info"
      ]
    },
    {
      "cell_type": "code",
      "execution_count": null,
      "metadata": {
        "colab": {
          "base_uri": "https://localhost:8080/"
        },
        "id": "7Hb8lMySKBUz",
        "outputId": "f84cc7a0-819c-4e11-d2bc-601adae73ae4"
      },
      "outputs": [],
      "source": [
        "dfGlobal.dtypes\n",
        "#afin de pouvoir l'exploiter plus facilement on va passer le code catégorie en tant qu'information catégorielle\n",
        "dfGlobal['categ'] = dfGlobal['categ'].astype(str)\n",
        "dfGlobal.dtypes"
      ]
    },
    {
      "cell_type": "code",
      "execution_count": null,
      "metadata": {
        "colab": {
          "base_uri": "https://localhost:8080/"
        },
        "id": "ptCXWy1RGBwA",
        "outputId": "f7deb682-4f25-44bb-a53c-e33c9a920601"
      },
      "outputs": [],
      "source": [
        "dfGlobal.isna().sum(axis = 0)"
      ]
    },
    {
      "attachments": {},
      "cell_type": "markdown",
      "metadata": {
        "id": "KBcuNBPmQ1rL"
      },
      "source": [
        "On constate que les colonnes 'price' & 'categ' comportent 221 entrées nulles, on va fouiller afin de retrouver la raison de cette absence de valeurs"
      ]
    },
    {
      "cell_type": "code",
      "execution_count": null,
      "metadata": {
        "colab": {
          "base_uri": "https://localhost:8080/",
          "height": 424
        },
        "id": "QC_dx78KMqDy",
        "outputId": "40900b4a-91ff-43ce-b885-7c06b9fcea59"
      },
      "outputs": [],
      "source": [
        "testNA = dfGlobal[dfGlobal['price'].isna()]\n",
        "testNA"
      ]
    },
    {
      "cell_type": "code",
      "execution_count": null,
      "metadata": {
        "colab": {
          "base_uri": "https://localhost:8080/"
        },
        "id": "PDTxvwpYQN3F",
        "outputId": "f34758cc-95c2-49fc-a206-18284c705cbe"
      },
      "outputs": [],
      "source": [
        "testNA['id_prod'].unique().shape"
      ]
    },
    {
      "attachments": {},
      "cell_type": "markdown",
      "metadata": {
        "id": "N-9cxE1_RAMU"
      },
      "source": [
        "Il semblerait qu'un seul id_prod soit concerné par cette absence de prix, voyons voir si ce produit existe dans la table product originale"
      ]
    },
    {
      "cell_type": "code",
      "execution_count": null,
      "metadata": {
        "colab": {
          "base_uri": "https://localhost:8080/",
          "height": 50
        },
        "id": "nzoziS4CQeWo",
        "outputId": "f8ab30fc-afce-4cd8-c3a1-d010aa41be61"
      },
      "outputs": [],
      "source": [
        "products.loc[products['price'] == '0_2245',:]"
      ]
    },
    {
      "attachments": {},
      "cell_type": "markdown",
      "metadata": {
        "id": "6JeXLN0gRJGb"
      },
      "source": [
        "Le produit n'est pas renseigné dans la table products, à défaut de pouvoir connaitre son prix, on va donc le retirer de notre table fusionnée pour le moment, tout prevenant la personne en gestion du e-commerce de cette absence :"
      ]
    },
    {
      "cell_type": "code",
      "execution_count": 130,
      "metadata": {
        "id": "41sew20SRfgO"
      },
      "outputs": [],
      "source": [
        "dfGlobal.dropna(subset=['price'],inplace=True)"
      ]
    },
    {
      "cell_type": "code",
      "execution_count": null,
      "metadata": {
        "colab": {
          "base_uri": "https://localhost:8080/"
        },
        "id": "3fk8qDvpRjrq",
        "outputId": "4c3b82fd-7901-4ff2-ae83-a399dc74a6bb"
      },
      "outputs": [],
      "source": [
        "dfGlobal.isna().sum(axis = 0)"
      ]
    },
    {
      "attachments": {},
      "cell_type": "markdown",
      "metadata": {},
      "source": [
        "### Enrichissement de la Table Globale"
      ]
    },
    {
      "attachments": {},
      "cell_type": "markdown",
      "metadata": {},
      "source": [
        "On va ensuite venir enrichir cette table globale avec des informations supplémentaires afin de pouvoir affiner nos analyses par la suite :"
      ]
    },
    {
      "cell_type": "code",
      "execution_count": null,
      "metadata": {},
      "outputs": [],
      "source": [
        "currentDateTime = datetime.datetime.now()\n",
        "date = currentDateTime.date()\n",
        "\n",
        "# Calculer l'âge des clients en soustrayant leur année de naissance de l'année actuelle\n",
        "dfGlobal['age'] = date.year - dfGlobal['birth'].astype(int)\n",
        "\n",
        "#ajouter la notion de tranche d'age dans le DF\n",
        "bin_labels=labels=['18-24','25-34','35-44','45-60','61+']\n",
        "dfGlobal[\"tranche_age\"] = pd.cut(x=dfGlobal['age'], bins=[18,24,34,44,60,100],labels=bin_labels)\n",
        "\n",
        "dfGlobal"
      ]
    },
    {
      "attachments": {},
      "cell_type": "markdown",
      "metadata": {},
      "source": [
        "Cette table enrichie comprends une ligne par transactions, il serait également intéressant de la grouper pour avoir ces informations par clients et par produits : "
      ]
    },
    {
      "cell_type": "markdown",
      "metadata": {},
      "source": [
        "Dans un premier temps on va créer une table avec la somme et le nombre de transactions de chaque clients en ajoutant des champs calculés supplémentaires permis par ce regroupement :\n",
        "* la fréquence d'achat\n",
        "* le panier moyen"
      ]
    },
    {
      "cell_type": "code",
      "execution_count": null,
      "metadata": {},
      "outputs": [],
      "source": [
        "# grouper les achats par client et conserver la date de leur premier achat, celle de leur dernier achat, la somme des montants dépensés et le nombre de sessions realisées\n",
        "dfGlobalcli = dfGlobal.groupby(['client_id','age','sex']).agg({'date': ['min', 'max',],'price':'sum','session_id':'count'}).reset_index()\n",
        "dfGlobalcli.columns = ['_'.join(col) for col in dfGlobalcli.columns]\n",
        "#on renomme les colonnes pour plus de lisibilité et pour eviter les accents & espaces\n",
        "dfGlobalcli = dfGlobalcli.rename(columns={'client_id_':'client_id','age_':'age','sex_':'sex','date_min':'premier_achat','date_max':'dernier_achat', 'session_id_count' : 'nb_achats', 'price_sum':'CA'})\n",
        "#on drop les clients n'ayant pas réalisé d'achats\n",
        "dfGlobalcli = dfGlobalcli[dfGlobalcli['nb_achats'] >= 1]\n",
        "# on calcule la durée entre le premier achat et le dernier achat en date afin de calculer une fréquence d'achat mensuelle moyenne (+ gestion des clients ayant acheté sur une seule date)\n",
        "dfGlobalcli['periode_moyenne_jours'] = (dfGlobalcli['dernier_achat'] - dfGlobalcli['premier_achat']).dt.days\n",
        "mask = dfGlobalcli['periode_moyenne_jours'] != 0\n",
        "dfGlobalcli.loc[mask, \"freq_achat_mensuelle\"] = round((dfGlobalcli['nb_achats'] / dfGlobalcli['periode_moyenne_jours']) * 30,1)\n",
        "dfGlobalcli.loc[~mask, \"freq_achat_mensuelle\"] = 0\n",
        "# on ajoute la notion de panier moyen par client\n",
        "dfGlobalcli[\"panier_moyen\"] = round((dfGlobalcli['CA'] / dfGlobalcli['nb_achats']),1)\n",
        "# et on ajoute les tranches d'age\n",
        "bin_labels=labels=['18-24','25-34','35-44','45-60','61+']\n",
        "dfGlobalcli[\"tranche_age\"] = pd.cut(x=dfGlobalcli['age'], bins=[18,24,34,44,60,100],labels=bin_labels)\n",
        "dfGlobalcli"
      ]
    },
    {
      "cell_type": "markdown",
      "metadata": {},
      "source": [
        "Puis une seconde table avec la même logique mais avec les ta somme des transactions par produits :"
      ]
    },
    {
      "cell_type": "code",
      "execution_count": null,
      "metadata": {},
      "outputs": [],
      "source": [
        "# On groupe le CA et le nombre de ventes par code produit :\n",
        "dfGlobalProd = dfGlobal.groupby(['id_prod', 'categ']).agg({'price': ['sum', 'mean'], 'date': 'count'}).reset_index()\n",
        "dfGlobalProd.columns = ['id_prod', 'categ', 'CA', 'prix_unitaire', 'nb_ventes']\n",
        "dfGlobalProd"
      ]
    },
    {
      "cell_type": "code",
      "execution_count": 135,
      "metadata": {},
      "outputs": [],
      "source": [
        "#export pour streamlit\n",
        "dfGlobalProd.to_csv('Streamlit/Source_données/dfGlobalProd.csv', index=False)\n",
        "dfGlobalcli.to_csv('Streamlit/Source_données/dfGlobalcli.csv', index=False)\n",
        "dfGlobal.to_csv('Streamlit/Source_données/dfGlobal.csv', index=False)"
      ]
    },
    {
      "cell_type": "markdown",
      "metadata": {},
      "source": [
        "On à désormais a notre disposition les 3 tables sources nettoyées : \n",
        "* Produits\n",
        "* Clients\n",
        "* Transactions\n",
        "\n",
        "Et trois nouvelles tables :\n",
        "* Une table 'globale' (la table transaction enrichie avec les données des tables Produits et Clients)\n",
        "* Une table 'globalecli' qui regroupe notre table globale groupée par clients\n",
        "* Une table 'globaleprod' qui regroupe notre table globale groupée par produits"
      ]
    },
    {
      "attachments": {},
      "cell_type": "markdown",
      "metadata": {
        "id": "aqM04m7i2IoS"
      },
      "source": [
        "## Analyse des indicateurs de vente"
      ]
    },
    {
      "attachments": {},
      "cell_type": "markdown",
      "metadata": {
        "id": "RpC_pTVs7flJ"
      },
      "source": [
        "### 1. Indicateurs et graphiques autour du chiffre d'affaire"
      ]
    },
    {
      "cell_type": "code",
      "execution_count": null,
      "metadata": {
        "colab": {
          "base_uri": "https://localhost:8080/"
        },
        "id": "3tNaHu027kbO",
        "outputId": "d987e561-1292-40e4-b626-54c68819dc10"
      },
      "outputs": [],
      "source": [
        "#calcul du chiffre d'affaire\n",
        "CA = dfGlobal['price'].sum()\n",
        "print(\"le E-commerce a réalisé\", round(CA,2),\"€ de chiffre d'affaire de Mars 2021 à Février 2023\")"
      ]
    },
    {
      "attachments": {},
      "cell_type": "markdown",
      "metadata": {
        "id": "mvUPz9kEJR_F"
      },
      "source": [
        "#### Réalisation d'un histogramme sur l'évolution du CA dans le temps"
      ]
    },
    {
      "cell_type": "code",
      "execution_count": null,
      "metadata": {},
      "outputs": [],
      "source": [
        "dfGlobal.head()"
      ]
    },
    {
      "cell_type": "code",
      "execution_count": null,
      "metadata": {
        "colab": {
          "base_uri": "https://localhost:8080/",
          "height": 238
        },
        "id": "5a-K39PKJV-O",
        "outputId": "0181bb80-4f95-4800-a72c-40447cba05ed"
      },
      "outputs": [],
      "source": [
        "#on va grouper notre dfGlobal par mois en aditionnant le CA réalisé par transactions pour avoir le CA global par mois dans un nouveau DF :\n",
        "caMensuel = dfGlobal.drop(['categ','birth','age'], axis=1).groupby(pd.Grouper(key='date', freq='M')).sum('price')\n",
        "caMensuel = caMensuel.reset_index()\n",
        "caMensuel['date'] = pd.to_datetime(caMensuel['date'], format='%Y-%m')\n",
        "caMensuel = caMensuel.rename(columns={\"price\": \"CA\"})\n",
        "caMensuel.head()"
      ]
    },
    {
      "cell_type": "code",
      "execution_count": null,
      "metadata": {},
      "outputs": [],
      "source": [
        "#puis on va le plotter dans un line chart pour analyser son évolution au cours des mois :\n",
        "caMensuel_chart = alt.Chart(caMensuel).mark_area(line={'color':'blue'},color='blue').encode(\n",
        "    x=alt.X('yearmonth(date):O', axis=alt.Axis(title='Mois')),\n",
        "    y=alt.Y('CA', axis=alt.Axis(title=\"Chiffre d'affaires\")),\n",
        "    tooltip=['date', 'CA']\n",
        ").properties(\n",
        "    title=\"Chiffre d'affaires mensuel\",\n",
        "    width=1000\n",
        ")\n",
        "caMensuel_chart"
      ]
    },
    {
      "cell_type": "markdown",
      "metadata": {},
      "source": [
        "On constate une forte baisse du CA en octobre, qui pourrait être due a une baisse naturelle de ventes suite a la rentrée scolaire qui représente un maronnier important dans le business de la librairie. \n",
        "\n",
        "Vérifions la véracité de cette hypothèse :"
      ]
    },
    {
      "cell_type": "code",
      "execution_count": null,
      "metadata": {},
      "outputs": [],
      "source": [
        "# Sélection des lignes avec la date en octobre 2021\n",
        "selected_df = dfGlobal.loc[dfGlobal['date'].between('2021-10-01', '2021-10-31'),:]\n",
        "selected_df = selected_df.drop(['birth','age'], axis=1).groupby([pd.Grouper(key='date', freq='D'),'categ']).sum('price')\n",
        "selected_df = selected_df.reset_index()\n",
        "selected_df['date'] = pd.to_datetime(selected_df['date'], format='%Y-%m')\n",
        "selected_df = selected_df.rename(columns={\"price\": \"CA\"})\n",
        "selected_df\n",
        "# Affichage dans un graphz\n",
        "alt.Chart(selected_df).mark_bar().encode(\n",
        "    x='date',\n",
        "    y='sum(CA)',\n",
        "    color='categ',\n",
        "    tooltip=[\"CA\",\"date\"]\n",
        ").properties(width=600)"
      ]
    },
    {
      "cell_type": "markdown",
      "metadata": {},
      "source": [
        "Nous n'avons aucunes ventes sur la catégorie 1 du 2 au 27 octobre ce qui ressemble fortement a un souci de remontées des données de ventes depuis le e-commerce, il faudrait contacter le webmaster afin d'en savoir plus à ce sujet."
      ]
    },
    {
      "attachments": {},
      "cell_type": "markdown",
      "metadata": {
        "id": "U5R9PghZ7_0b"
      },
      "source": [
        "#### Décomposition en moyenne mobile pour évaluer la tendance globale"
      ]
    },
    {
      "cell_type": "code",
      "execution_count": null,
      "metadata": {},
      "outputs": [],
      "source": [
        "# Calcul du chiffre d'affaires mensuel avec la moyenne mobile sur 3 mois\n",
        "caMensuel_chart = caMensuel[['date', \"CA\"]]\n",
        "caMensuel_chart['Moyenne mobile'] = caMensuel_chart['CA'].rolling(window=3).mean()\n",
        "\n",
        "# Tracé du graphique en ligne avec la moyenne mobile personnalisée\n",
        "chart = alt.Chart(caMensuel_chart).mark_line(point=True).encode(\n",
        "    x=alt.X('yearmonth(date):O', axis=alt.Axis(title='Mois')),\n",
        "    y=alt.Y(\"CA\", axis=alt.Axis(title=\"Chiffre d'affaires\")),\n",
        "    tooltip=['date', \"CA\"]\n",
        ").properties(\n",
        "    title=\"Chiffre d'affaires mensuel avec moyenne mobile sur \" + str(3) + \" mois\"\n",
        ")\n",
        "\n",
        "# Tracé de la moyenne mobile\n",
        "rolling_avg_chart = alt.Chart(caMensuel_chart).mark_line(point=alt.MarkConfig(color='red'), color='red').encode(\n",
        "    x='yearmonth(date):O',\n",
        "    y='Moyenne mobile',\n",
        "    tooltip=['date', 'Moyenne mobile']\n",
        ")\n",
        "\n",
        "chart = (chart + rolling_avg_chart).properties(height=300, width=1000)\n",
        "\n",
        "chart"
      ]
    },
    {
      "cell_type": "markdown",
      "metadata": {},
      "source": [
        "L'analyse de cette moyenne mobile a trois mois indique une tendance d'evolution de notre CA plutôt neutre, avec des valeurs de CA cumulé mensuel très proche de la moyenne des trois mois précédents (excepté pour mois d'octobre mais qui semble impacté par un manque de données). Il en va de même lorsqu'on passe la fenetre de moyenne mobile a 6 ou 12 mois."
      ]
    },
    {
      "attachments": {},
      "cell_type": "markdown",
      "metadata": {
        "id": "oCVDLzPB8HUG"
      },
      "source": [
        "#### Tops et Flops références"
      ]
    },
    {
      "attachments": {},
      "cell_type": "markdown",
      "metadata": {
        "id": "PR2X4IddBHbp"
      },
      "source": [
        "Les tops produits"
      ]
    },
    {
      "cell_type": "code",
      "execution_count": null,
      "metadata": {
        "colab": {
          "base_uri": "https://localhost:8080/",
          "height": 455
        },
        "id": "34dhYT9_HIJy",
        "outputId": "94ad22e1-2e7c-4ac9-8a6c-d7c946ff4462"
      },
      "outputs": [],
      "source": [
        "dfGlobalProd.sort_values(by='CA', ascending = False).head(10)"
      ]
    },
    {
      "cell_type": "markdown",
      "metadata": {},
      "source": [
        "L'affichage du top10 des références ayant généré le plus de CA permet deja de constater plusieurs tendances :\n",
        "* Aucun produit de la catégorie 0 n'est présent dans ce top\n",
        "* 8 des 10 produits proviennent de la catégorie 2, catégorie dont le prix moyen semble le plus important\n",
        "* Les deux produits issue de la catégorie 1 sont ceux qui ont fait l'objet du plus de ventes unitaires"
      ]
    },
    {
      "attachments": {},
      "cell_type": "markdown",
      "metadata": {
        "id": "lOA5S-emKQ1n"
      },
      "source": [
        "Les flops"
      ]
    },
    {
      "cell_type": "code",
      "execution_count": null,
      "metadata": {
        "colab": {
          "base_uri": "https://localhost:8080/",
          "height": 455
        },
        "id": "H1vbOLKQJb_5",
        "outputId": "b65639e3-a7fc-4031-dc3e-ab87b0a8de46"
      },
      "outputs": [],
      "source": [
        "dfGlobalProd.sort_values(by='CA', ascending = True).head(10)"
      ]
    },
    {
      "cell_type": "markdown",
      "metadata": {},
      "source": [
        "Le top 10 des référnces ayant généré le moins de CA sur le site est quand à lui trusté par la catégorie 0 dont les produits semblent avoir un  prix moyen largement inférieur aux deux auitres catégories du site. "
      ]
    },
    {
      "attachments": {},
      "cell_type": "markdown",
      "metadata": {
        "id": "ljn6EVJL8MtE"
      },
      "source": [
        "### 2. Profiling Client"
      ]
    },
    {
      "attachments": {},
      "cell_type": "markdown",
      "metadata": {
        "id": "kXfTVZ6G8UAy"
      },
      "source": [
        "#### CA par clients via la courbe de Lorenz"
      ]
    },
    {
      "attachments": {},
      "cell_type": "markdown",
      "metadata": {
        "id": "BysNchYKHQF3"
      },
      "source": [
        "Dans un premier temps on va créer un dataframe qui stock le CA par client"
      ]
    },
    {
      "cell_type": "code",
      "execution_count": null,
      "metadata": {
        "colab": {
          "base_uri": "https://localhost:8080/"
        },
        "id": "BPxTbsh8QvFS",
        "outputId": "09d46dda-019e-4769-8e86-344638ed334b"
      },
      "outputs": [],
      "source": [
        "# on va ensuite convertir notre colonne de CA par client en array numpy afin de faciliter le calcul du coefficient de gini et la création de la courbe de lorenz\n",
        "caClientArr = dfGlobalcli['CA'].to_numpy()\n",
        "# on vient egalement ordonner de manière croissante notre liste de valeurs\n",
        "caClientArr = np.sort(caClientArr)\n",
        "caClientArr"
      ]
    },
    {
      "attachments": {},
      "cell_type": "markdown",
      "metadata": {
        "id": "ZOuNpf8BC_Dc"
      },
      "source": [
        "Pour ce faire on a besoin de calculer le coefficient de Gini : "
      ]
    },
    {
      "cell_type": "code",
      "execution_count": 145,
      "metadata": {
        "id": "9rha0sU58Y44"
      },
      "outputs": [],
      "source": [
        "def gini(x):\n",
        "    total = 0\n",
        "    for i, xi in enumerate(x[:-1], 1):\n",
        "        total += np.sum(np.abs(xi - x[i:]))\n",
        "    return total / (len(x)**2 * np.mean(x))"
      ]
    },
    {
      "cell_type": "code",
      "execution_count": null,
      "metadata": {
        "colab": {
          "base_uri": "https://localhost:8080/"
        },
        "id": "xbOgoC1VI4J1",
        "outputId": "f9fe5c6a-32dc-4093-87c1-94b259c683e4"
      },
      "outputs": [],
      "source": [
        "print(\"Coefficient de gini\", round(gini(caClientArr),2))"
      ]
    },
    {
      "attachments": {},
      "cell_type": "markdown",
      "metadata": {
        "id": "N1U_BbUNeU1q"
      },
      "source": [
        "Notre coefficient de Gini etant supérieur a 0.35 (seuil qui représente communément la frontière entre une répartition égalitaire et inégalitaire d'une série de valeurs), on peut deja déduire que le chiffre d'affaire de la libraire Lapage est répartie de manière inégalitaire entre ses clients. Voyons en détail comment ce dernier est répartie via la courbe de Lorenz"
      ]
    },
    {
      "cell_type": "code",
      "execution_count": null,
      "metadata": {
        "colab": {
          "base_uri": "https://localhost:8080/",
          "height": 898
        },
        "id": "76Rl0UYaQhWi",
        "outputId": "05bc3223-0b29-4159-f5e4-1dd51eda9b16"
      },
      "outputs": [],
      "source": [
        "def lorenz(caClientArr):\n",
        "    # Division de la somme cumulative du CA par client par la somme totale du CA puis passage en %\n",
        "    # ça permet egalement d'assurer que toutes les valeurs sont comprises entre 0 et 100\n",
        "    scaled_prefix_sum = caClientArr.cumsum() / caClientArr.sum()*100\n",
        "    # On ajoute la valeur 0 (car 0% des clients représentent 0% du chiffre d'affaire du magasin)\n",
        "    return np.insert(scaled_prefix_sum, 0, 0)\n",
        "\n",
        "# Affichage du coefficient de gini calculé plus haut\n",
        "print(\"coefficient de Gini\",round(gini(caClientArr),2))\n",
        "\n",
        "y= lorenz(caClientArr)\n",
        "#linspace -> création des points de la courbe de lorenz, dans l'interval 0,1, avec le nb de points extraits de notre fonction au dessus via le .size\n",
        "x = np.linspace(0.0, 1.0, len(y))*100\n",
        "\n",
        "\n",
        "plt.plot(x, y, label = \"Courbe de Lorenz\")\n",
        "# Affichage de la droit d'égalité parfaite \n",
        "plt.plot([0,100], [0,100], label = \"Droite de pente unitaire\")\n",
        "#ajout de titre et légende\n",
        "plt.title(\"Répartition du chiffre d'affaire par clients\")\n",
        "plt.legend(loc = 'best', frameon = False)\n",
        "plt.xlabel(\"Part cumulée des clients (en %)\")\n",
        "plt.ylabel(\"Part cumulée du chiffre d'affaire (en %)\")\n",
        "#affichage\n",
        "plt.show()"
      ]
    },
    {
      "attachments": {},
      "cell_type": "markdown",
      "metadata": {
        "id": "snQXsfLeH2I6"
      },
      "source": [
        "La visualisation de la courbe de Lorenz nous permet de confirme que la répartition du chiffre d'affaire par clients est inégalitaire. A titre d'exemple, on peut constater que les 20% des clients les plus dépensiers génèrent a eux seuls quasiment 50% du CA de la boutique.\n",
        "\n",
        "On peut également constater au sommet de la courbe de lorenz, qu'une poignée de client représente a eux seuls environ 8 a 10% du chiffre d'affaire de la boutique, il serait intéressant de creuser afin de comprendre qui sont ces clients."
      ]
    },
    {
      "cell_type": "code",
      "execution_count": null,
      "metadata": {
        "colab": {
          "base_uri": "https://localhost:8080/",
          "height": 708
        },
        "id": "aB_XH9dHOevW",
        "outputId": "7e7b7dc2-40f9-43e7-f167-41fde9ed1831"
      },
      "outputs": [],
      "source": [
        "dfGlobalcli.sort_values(by='CA', ascending = False).head(10)"
      ]
    },
    {
      "attachments": {},
      "cell_type": "markdown",
      "metadata": {
        "id": "ZsbOM-dDQKZx"
      },
      "source": [
        "On va stocker dans un dataframe spécifique ces clients dont le CA (supérieur a 100k€) témoigne d'une consommation de livre plus proche de celle d'une entreprise que d'un particulier"
      ]
    },
    {
      "cell_type": "code",
      "execution_count": 149,
      "metadata": {
        "id": "IDvoXiCRXxl2"
      },
      "outputs": [],
      "source": [
        "clientsBtoB = ['c_1609','c_4958','c_6714','c_3454']"
      ]
    },
    {
      "attachments": {},
      "cell_type": "markdown",
      "metadata": {
        "id": "Y3D6fMAi8dsS"
      },
      "source": [
        "## Analyse de la clientèle"
      ]
    },
    {
      "attachments": {},
      "cell_type": "markdown",
      "metadata": {},
      "source": [
        "Afin de ne pas impacter nos différentes analyses de la clientèle avec bruit produit par les comportements très atypiques des clients BtoB identifiés, nous allons séparer le segment BtoC du segment BtoB. \n",
        "\n",
        "Afin de pouvoir apporter une analyse constructive pour le e-commerce de la librairie Lapage, nous allons uniquement nous concentrer sur les clients BtoC !"
      ]
    },
    {
      "cell_type": "code",
      "execution_count": 150,
      "metadata": {},
      "outputs": [],
      "source": [
        "clientsBtoB = ['c_1609','c_4958','c_6714','c_3454']\n",
        "dfGlobalcliBtoB = dfGlobalcli.loc[dfGlobalcli['client_id'].isin(clientsBtoB),:]\n",
        "dfGlobalcliBtoC = dfGlobalcli.loc[~dfGlobalcli['client_id'].isin(clientsBtoB),:]\n",
        "transactionsBtoC = dfGlobal[~dfGlobal['client_id'].isin(clientsBtoB)].reset_index(drop=True)"
      ]
    },
    {
      "attachments": {},
      "cell_type": "markdown",
      "metadata": {
        "id": "Z8NODkSD9kyx"
      },
      "source": [
        "### 1. Le lien entre le genre d’un client et les catégories des livres achetés"
      ]
    },
    {
      "cell_type": "markdown",
      "metadata": {},
      "source": [
        "On va dans un premier temps grouper notre dataframe global par sexe et catégorie de produit afin de pouvoir analyser une potentielle relation existante entre ces deux variables catégorielles :"
      ]
    },
    {
      "cell_type": "code",
      "execution_count": null,
      "metadata": {
        "colab": {
          "base_uri": "https://localhost:8080/",
          "height": 238
        },
        "id": "Z6mbnW_XawT9",
        "outputId": "452421d2-ba07-4ff1-f3ed-356202f77c26"
      },
      "outputs": [],
      "source": [
        "catxgenre = dfGlobal.groupby(['sex', 'categ']).sum('price')\n",
        "catxgenre = catxgenre.reset_index()\n",
        "catxgenre = catxgenre.loc[:, ['sex', 'categ', 'price']].rename(columns={'categ':'Catégories','price' : \"CA\"})\n",
        "catxgenre['proportion en %'] = round(((catxgenre['CA'] / catxgenre.groupby('Catégories')['CA'].transform('sum')) * 100),2)\n",
        "catxgenre.sort_values(by='Catégories')"
      ]
    },
    {
      "cell_type": "markdown",
      "metadata": {},
      "source": [
        "On va ensuite plotter ce dataframe groupé afin de pouvoir l'analyser de manière plus visuelle :"
      ]
    },
    {
      "cell_type": "code",
      "execution_count": null,
      "metadata": {},
      "outputs": [],
      "source": [
        "catxgenre_bar = alt.Chart(catxgenre).mark_bar(binSpacing=2).encode(\n",
        "x=alt.X('Catégories:N', axis=alt.Axis(labelAngle=0)),\n",
        "y='proportion en %',\n",
        "color='sex:N',\n",
        "tooltip=['proportion en %','Catégories']\n",
        ").properties(title=\"Catégorie de livre achetée par genre\"\n",
        ").interactive()\n",
        "catxgenre_bar"
      ]
    },
    {
      "attachments": {},
      "cell_type": "markdown",
      "metadata": {},
      "source": [
        "A première vue le genre du client semble avoir un très faible impact sur sa catégorie de prédilection, vérifions cela a l'aide d'un test statistique avec les deux hypothèses suivantes :\n",
        "\n",
        "* H0 - Le sexe et la catégorie de livre achetée sont deux variables liées par une corrélation\n",
        "* H1 - Le sexe et la catégorie de livre achetée ne présentent pas de corrélation\n",
        "\n",
        "Puisque nous allons comparer deux variables qualitatives, on va se servir du test de Khi2 afin de determiner quelle hypothèse est vérifiée\n"
      ]
    },
    {
      "attachments": {},
      "cell_type": "markdown",
      "metadata": {},
      "source": [
        "Pour ce faire on va d'abord créer un tableau de contingence sur la base de notre Dataframe global et effectuer le test de khi2 "
      ]
    },
    {
      "cell_type": "code",
      "execution_count": null,
      "metadata": {},
      "outputs": [],
      "source": [
        "from scipy.stats import chi2_contingency\n",
        "\n",
        "# Calcul du tableau de contingence\n",
        "contingence_table = pd.crosstab(dfGlobal['sex'], dfGlobal['categ'])\n",
        "\n",
        "#réalisation du test de khi2 sur le tableau de contingence fraîchement créé : \n",
        "chi2, p_value, _, _ = chi2_contingency(contingence_table)\n",
        "\n",
        "#affichage des resultats\n",
        "print(\"Tableau de contingence :\")\n",
        "print(contingence_table)\n",
        "print(\"\\nRésultats du test du khi-deux :\")\n",
        "print(\"Statistique du khi-deux :\", round(chi2,2))\n",
        "print(\"p-valeur :\", round(p_value,2)) "
      ]
    },
    {
      "attachments": {},
      "cell_type": "markdown",
      "metadata": {},
      "source": [
        "On va compléter notre test statistique par le calcul du V de cramer pour définir si la corrélation est aussi faible qu'il y parait sur notre graphique et dans les premiers resultats du khi2 :"
      ]
    },
    {
      "cell_type": "code",
      "execution_count": null,
      "metadata": {},
      "outputs": [],
      "source": [
        "def cramers_v(contingency_table):\n",
        "    chi2, _, _, _ = sp.stats.chi2_contingency(contingency_table)\n",
        "    n = contingency_table.sum().sum()\n",
        "    phi2 = chi2 / n\n",
        "    r, k = contingency_table.shape\n",
        "    phi2corr = max(0, phi2 - ((k-1)*(r-1))/(n-1))\n",
        "    rcorr = r - ((r-1)**2)/(n-1)\n",
        "    kcorr = k - ((k-1)**2)/(n-1)\n",
        "    v = (phi2corr / min((kcorr-1), (rcorr-1)))**0.5\n",
        "    return v\n",
        "\n",
        "# Calcul du tableau de contingence\n",
        "contingency_table = pd.crosstab(dfGlobal['sex'], dfGlobal['categ'])\n",
        "\n",
        "# Calcul du V de Cramer\n",
        "v = cramers_v(contingency_table)\n",
        "\n",
        "# Affichage du résultat\n",
        "print(\"V de Cramer :\", v)\n"
      ]
    },
    {
      "attachments": {},
      "cell_type": "markdown",
      "metadata": {},
      "source": [
        "Dans notre cas de figure, le resultat du test de Khi2 présentant une valeur de p inférieur a 0,05 signifie qu'il existe une corrélation statistiquement significative entre les variable de sexe et de catégories, et qu'on peut tirer l'enseignement suivant : \n",
        "\n",
        "-Les femmes sont plus suceptibles d'acheter des livres de la catégorie 1 alors que les hommes sont eux plus sucpetibles d'acheter des livres des catégories 0 et 2. \n",
        "\n",
        "Cependant dans notre cas, même si la correlation statistique est avérée, la méthode du V de cramer vient confirmer que la corrélation substantielle reste elle anecdotique avec un écart extremement faible entre la répartition par sexe sur les trois catégories, ce qui me semble nous empêcher de tirer une quelconque conclusion a appliquer d'un point de vue métier / activité. "
      ]
    },
    {
      "attachments": {},
      "cell_type": "markdown",
      "metadata": {
        "id": "wpk3k14X9oz7"
      },
      "source": [
        "### 2. Le lien entre l’âge des clients et le montant total des achats, la fréquence d’achat, la taille du panier moyen et les catégories des livres achetés"
      ]
    },
    {
      "attachments": {},
      "cell_type": "markdown",
      "metadata": {
        "id": "-chzDRJneswv"
      },
      "source": [
        "#### Montant dépensé par age"
      ]
    },
    {
      "attachments": {},
      "cell_type": "markdown",
      "metadata": {},
      "source": [
        "Afin de permettre une analyse plus lisible, on va venir créer des tranche d'âges afin de représenter l'ensemble des catégories d'acheteurs de la librairie par des tranches de vies \"communes\" d'un point de vue marketing :\n",
        "\n",
        "\n",
        "*   Les étudiants (18 - 24 ans) \n",
        "\n",
        "*   Les jeunes actifs (25 - 34 ans) \n",
        "\n",
        "*   Les actifs + parentalité (35 - 44 ans)\n",
        "\n",
        "*   Les actifs  (45 - 60 ans) \n",
        "\n",
        "*   Les Seniors (61 ans et plus) \n"
      ]
    },
    {
      "cell_type": "markdown",
      "metadata": {},
      "source": [
        "On va ensuite créer un dataframe venant grouper le chiffre d'affaire globale du e-commerce par ces tranche d'âge recemment crées "
      ]
    },
    {
      "cell_type": "code",
      "execution_count": null,
      "metadata": {},
      "outputs": [],
      "source": [
        "montantParTrancheAge = dfGlobalcliBtoC.groupby([\"tranche_age\"]).agg({'CA':'sum', 'nb_achats':'sum',}).rename(columns={'price' : 'CA'}).reset_index().sort_values('CA', ascending=False)"
      ]
    },
    {
      "cell_type": "markdown",
      "metadata": {},
      "source": [
        "On affiche ensuite ce dataframe sous forme de bar plot afin de faciliter sa lecture :"
      ]
    },
    {
      "cell_type": "code",
      "execution_count": null,
      "metadata": {},
      "outputs": [],
      "source": [
        "montantParTrancheAge_chart = alt.Chart(montantParTrancheAge).mark_bar().encode(\n",
        "x=alt.X(\"tranche_age\", axis=alt.Axis(labelAngle=0)),\n",
        "y='CA',\n",
        "tooltip=['CA','tranche_age']).properties(\n",
        "title=\"Chiffre d'affaire par tranche d\\'age\",\n",
        "width=500)\n",
        "montantParTrancheAge_chart "
      ]
    },
    {
      "cell_type": "markdown",
      "metadata": {},
      "source": [
        "Deux tranches semblent sortir du lot en matière de dépenses : les 35-44 et les 45-60 ans"
      ]
    },
    {
      "cell_type": "markdown",
      "metadata": {},
      "source": [
        "En complément de cette analyse du chiffre d'affaire cumulé par tranche d'âge, on va afficher la répartition des clients par CA et par tranche d'âge :"
      ]
    },
    {
      "cell_type": "code",
      "execution_count": null,
      "metadata": {},
      "outputs": [],
      "source": [
        "# dfGlobalcliBtoC.boxplot('CA', by='tranche_age')\n",
        "alt.Chart(dfGlobalcliBtoC).mark_boxplot(size=20).encode(\n",
        "alt.X(\"tranche_age\", axis=alt.Axis(labelAngle=0)),\n",
        "y='CA',\n",
        "tooltip=['CA','tranche_age']).properties(\n",
        "title=\"Chiffre d'affaire par tranche d\\'age\",\n",
        "width=400)"
      ]
    },
    {
      "attachments": {},
      "cell_type": "markdown",
      "metadata": {},
      "source": [
        "A l'oeil nu, il semblerait que le CA dépensé soit corrélé à la tranche d'age du client, on va donc émettre deux hyptohèses : \n",
        "\n",
        "   - H0 : Il n'y a pas de corrélation linéaire entre âge et montant total des achats\n",
        "   - H1 : Il y a  corrélation linéaire entre âge et montant total des achats "
      ]
    },
    {
      "cell_type": "markdown",
      "metadata": {},
      "source": [
        "Afin de définir quel test employer pour démontrer ou non cette corrélation, on va devoir analyser un peu plus en détail notre variable quantitative, le Chiffre d'affaire, afin de connaitre notamment sa distribution."
      ]
    },
    {
      "cell_type": "code",
      "execution_count": null,
      "metadata": {},
      "outputs": [],
      "source": [
        "statistic, p_value = sp.stats.shapiro(dfGlobalcliBtoC['CA'])\n",
        "alpha = 0.05\n",
        "\n",
        "if p_value > alpha:\n",
        "    print(\"La variable quantitative suit une distribution normale.\")\n",
        "else:\n",
        "    print(\"La variable quantitative ne suit pas une distribution normale.\")"
      ]
    },
    {
      "cell_type": "markdown",
      "metadata": {},
      "source": [
        "Le test de Shapiro effectué sur la répartition du chiffre d'affaire réfute l'hypothèse ou ce dernier est ditribué normalement, vérifions cela a l'aide d'un affichage en graphique :"
      ]
    },
    {
      "cell_type": "code",
      "execution_count": null,
      "metadata": {},
      "outputs": [],
      "source": [
        "# Création des données\n",
        "X = dfGlobalcliBtoC['CA']\n",
        "x_min = 0\n",
        "x_max = np.max(X)\n",
        "mean = np.mean(X)\n",
        "std = np.std(X)\n",
        "x = np.linspace(x_min, x_max, 100)\n",
        "y = sp.stats.norm.pdf(x, mean, std)\n",
        "\n",
        "# Création du dataframe\n",
        "data = pd.DataFrame({'x': x, 'y': y})\n",
        "\n",
        "# Graphique\n",
        "line = alt.Chart(data).mark_line(color='blue').encode(\n",
        "    x='x',\n",
        "    y='y'\n",
        ").properties(\n",
        "    title='CA : comparaison avec une distribution normale',\n",
        "    width=400,\n",
        "    height=300\n",
        ")\n",
        "\n",
        "distrib = alt.Chart(dfGlobalcliBtoC).transform_density(\n",
        "    'CA',\n",
        "    as_=['CA', 'density'],\n",
        ").mark_area(color='indianred',\n",
        "            fillOpacity=0.5,\n",
        "            stroke='indianred',\n",
        "            strokeWidth=2).encode(\n",
        "    x=\"CA:Q\",\n",
        "    y='density:Q',\n",
        ")\n",
        "\n",
        "distribCA_chart = distrib + line\n",
        "chart.configure_axis(\n",
        "    labelFontSize=10,\n",
        "    titleFontSize=10\n",
        ").configure_legend(\n",
        "    title=None\n",
        ").configure_title(\n",
        "    fontSize=10\n",
        ")\n",
        "distribCA_chart"
      ]
    },
    {
      "cell_type": "markdown",
      "metadata": {},
      "source": [
        "On constate visuellement que la courbe de répartition (en rouge) de notre variable de chiffre d'affaire ne suit pas la courbe de distribution normale affichée en bleu ce qui confirme le résultat du test de Shapiro : \n",
        "\n",
        "- Notre variable de CA ne suit pas une distribution normale"
      ]
    },
    {
      "attachments": {},
      "cell_type": "markdown",
      "metadata": {},
      "source": [
        "Puisque notre variable quantitative (le CA) ne suit pas une distribution normale, nous allons devoir vérifier la corrélation avec un test non paramétrique, on va utiliser celui de  Kruskal-Wallis qui est l'équivalent de l'ANOVA mais qui viens comparer les médianes entre les groupes d'age plutôt que le moyennes."
      ]
    },
    {
      "cell_type": "code",
      "execution_count": null,
      "metadata": {},
      "outputs": [],
      "source": [
        "tranche_age_1 = dfGlobalcliBtoC[dfGlobalcliBtoC['tranche_age'] == '45-60']['CA']\n",
        "tranche_age_2 = dfGlobalcliBtoC[dfGlobalcliBtoC['tranche_age'] == '35-44']['CA']\n",
        "tranche_age_3 = dfGlobalcliBtoC[dfGlobalcliBtoC['tranche_age'] == '25-34']['CA']\n",
        "tranche_age_4 = dfGlobalcliBtoC[dfGlobalcliBtoC['tranche_age'] == '18-24']['CA']\n",
        "tranche_age_5 = dfGlobalcliBtoC[dfGlobalcliBtoC['tranche_age'] == '61+']['CA']\n",
        "\n",
        "# Effectuer le test de Kruskal-Wallis\n",
        "statistic, p_value = sp.stats.kruskal(tranche_age_1, tranche_age_2, tranche_age_3, tranche_age_4, tranche_age_5)\n",
        "\n",
        "# Afficher les résultats\n",
        "print(\"Statistique de test :\", round(statistic,2))\n",
        "print(\"Valeur p :\", round(p_value,2))"
      ]
    },
    {
      "attachments": {},
      "cell_type": "markdown",
      "metadata": {},
      "source": [
        "La statisque résultant du test de Kruskal-Wallis (404,2) suggère qu'il existe une différence significative entre nos différents groupes.\n",
        "\n",
        "la valeur extrêmement faible de notre p confirme cette observation : Les chiffres d'affaires par tranche d'âge sont statistiquement différents les uns des autres."
      ]
    },
    {
      "cell_type": "markdown",
      "metadata": {},
      "source": [
        "Afin de consolider le resultat de ce premier test, on va également réaliser un ANOVA, en testant au préalable la variance de nos différentes tranche d'âge :"
      ]
    },
    {
      "cell_type": "code",
      "execution_count": null,
      "metadata": {},
      "outputs": [],
      "source": [
        "# Effectuer le test de Levene\n",
        "levene_stat, levene_pvalue = sp.stats.levene(*[dfGlobalcliBtoC[dfGlobalcliBtoC['tranche_age'] == cat]['CA'] for cat in dfGlobalcliBtoC['tranche_age'].unique()])\n",
        "\n",
        "# Afficher les résultats\n",
        "print(\"Résultats du test de Levene:\")\n",
        "print(\"Statistique de test :\", round(levene_stat,2))\n",
        "print(\"Valeur de p :\", round(levene_pvalue,2))"
      ]
    },
    {
      "cell_type": "markdown",
      "metadata": {},
      "source": [
        "Les variance ne sont pas égales, on va donc appliquer un test Welch-ANOVA"
      ]
    },
    {
      "cell_type": "code",
      "execution_count": null,
      "metadata": {},
      "outputs": [],
      "source": [
        "\n",
        "# Effectuer l'ANOVA de Welch\n",
        "model = ols('CA ~ tranche_age', data=dfGlobalcliBtoC).fit()\n",
        "anova_table = sm.stats.anova_lm(model, typ=2)\n",
        "\n",
        "# Afficher les résultats\n",
        "print(\"Résultats de l'ANOVA de Welch:\")\n",
        "print(anova_table)"
      ]
    },
    {
      "cell_type": "markdown",
      "metadata": {},
      "source": [
        "Comme pour le test de Kruskal-Wallis, la p value est inférieur a < 0,5 on peut rejeter l'hypothèe d'indépendance et affirmer que notre variable CA à une différence de distribution significative pour nos différentes tranches d'âge et ainsi établir un lien significatif entre nos variables."
      ]
    },
    {
      "cell_type": "markdown",
      "metadata": {},
      "source": [
        "Il peut être intéressant pour la librairie de prendre cette enseignement et d'adapter de fait leur offre et/ou leurs efforts en terme de marketing afin de séduire cette cible qui semble la plus dépensière"
      ]
    },
    {
      "attachments": {},
      "cell_type": "markdown",
      "metadata": {
        "id": "NAjpgfoSe037"
      },
      "source": [
        "#### Fréquence d'achats"
      ]
    },
    {
      "cell_type": "markdown",
      "metadata": {},
      "source": [
        "Afin d'analyse un potentiel rapport entre fréquence d'achat et âge des clients de la librairie, on va afficher ces variables sur un nuage de point :"
      ]
    },
    {
      "cell_type": "code",
      "execution_count": null,
      "metadata": {},
      "outputs": [],
      "source": [
        "# Création du nuage de points avec Altair\n",
        "frequenceAchatAge_scatterplot = alt.Chart(dfGlobalcliBtoC).mark_circle(size=60).encode(\n",
        "    x='age',\n",
        "    y='nb_achats',\n",
        "    color='freq_achat_mensuelle',\n",
        "    tooltip=['age', 'nb_achats', 'freq_achat_mensuelle']\n",
        ").properties(\n",
        "    width=600,\n",
        "    height=400\n",
        ")\n",
        "frequenceAchatAge_scatterplot"
      ]
    },
    {
      "attachments": {},
      "cell_type": "markdown",
      "metadata": {},
      "source": [
        "Visuellement, il semble émerger une corrélation entre l'age et la fréquence d'achat, avec les plus hautes fréquences (en bleu foncé) majoritairement situées dans la tranche 35-50 ans, vérifion si cette corrélation est statistiquement démontrable par des tests :"
      ]
    },
    {
      "attachments": {},
      "cell_type": "markdown",
      "metadata": {},
      "source": [
        "Puisque nous souhaitons analyser la corrélation entre deux variable quantitatives (âge et frequence d'achat) nous allons devoir vérifier dans un premier temps si leur distribution est normale ou non via un test de shapiro : "
      ]
    },
    {
      "cell_type": "code",
      "execution_count": null,
      "metadata": {},
      "outputs": [],
      "source": [
        "statistic, p_value = sp.stats.shapiro(dfGlobalcliBtoC['freq_achat_mensuelle'])\n",
        "alpha = 0.05\n",
        "\n",
        "if p_value > alpha:\n",
        "    print(round(p_value,2), \"La variable fréquence d'achat moyenne mensuelle suit une distribution normale.\")\n",
        "else:\n",
        "    print(round(p_value,2), \"La variable fréquence d'achat moyenne mensuelle ne suit pas une distribution normale.\")\n",
        "\n",
        "statistic, p_value = sp.stats.shapiro(dfGlobalcliBtoC[\"age\"])\n",
        "alpha = 0.05\n",
        "\n",
        "if p_value > alpha:\n",
        "    print(round(p_value,2), \"La variable age suit une distribution normale.\")\n",
        "else:\n",
        "    print(round(p_value,2), \"La variable age ne suit pas une distribution normale.\")"
      ]
    },
    {
      "cell_type": "markdown",
      "metadata": {},
      "source": [
        "Selon les resultats du test de Shapiro, nos deux variables ne sont pas distribuées normalement, vérifions cela a l'aide de visualisations :"
      ]
    },
    {
      "cell_type": "code",
      "execution_count": null,
      "metadata": {},
      "outputs": [],
      "source": [
        "###### DISTRIB AGE ######\n",
        "\n",
        "# Création des données pour la distribution d'âge\n",
        "X_age = dfGlobalcliBtoC['age']\n",
        "x_min_age = 0\n",
        "x_max_age = np.max(X_age)\n",
        "mean_age = np.mean(X_age)\n",
        "std_age = np.std(X_age)\n",
        "x_age = np.linspace(x_min_age, x_max_age, 100)\n",
        "y_age = sp.stats.norm.pdf(x_age, mean_age, std_age)\n",
        "\n",
        "# Création du dataframe pour la distribution d'âge\n",
        "data_age = pd.DataFrame({'x': x_age, 'y': y_age})\n",
        "\n",
        "# Graphique pour la distribution d'âge\n",
        "line_age = alt.Chart(data_age).mark_line(color='blue').encode(\n",
        "    x='x',\n",
        "    y='y'\n",
        ").properties(\n",
        "    title='Age : comparaison avec une distribution normale',\n",
        "    width=400,\n",
        "    height=300\n",
        ")\n",
        "\n",
        "distribAge = alt.Chart(dfGlobalcliBtoC).transform_density(\n",
        "    'age',\n",
        "    as_=['age', 'density']\n",
        ").mark_area(color='indianred',\n",
        "            fillOpacity=0.5,\n",
        "            stroke='indianred',\n",
        "            strokeWidth=2).encode(\n",
        "    x=\"age:Q\",\n",
        "    y='density:Q'\n",
        ")\n",
        "\n",
        "distribAge_chart = distribAge + line_age\n",
        "\n",
        "###### DISTRIB FREQ ACHAT ######\n",
        "\n",
        "# Création des données pour la distribution de fréquence d'achat\n",
        "X_freq = dfGlobalcliBtoC['freq_achat_mensuelle']\n",
        "x_min_freq = 0\n",
        "x_max_freq = np.max(X_freq)\n",
        "mean_freq = np.mean(X_freq)\n",
        "std_freq = np.std(X_freq)\n",
        "x_freq = np.linspace(x_min_freq, x_max_freq, 100)\n",
        "y_freq = sp.stats.norm.pdf(x_freq, mean_freq, std_freq)\n",
        "\n",
        "# Création du dataframe pour la distribution de fréquence d'achat\n",
        "data_freq = pd.DataFrame({'x': x_freq, 'y': y_freq})\n",
        "\n",
        "# Graphique pour la distribution de fréquence d'achat\n",
        "line_freq = alt.Chart(data_freq).mark_line(color='blue').encode(\n",
        "    x='x',\n",
        "    y='y'\n",
        ").properties(\n",
        "    title='Freq_achat_mensuelle : comparaison avec une distribution normale',\n",
        "    width=400,\n",
        "    height=300\n",
        ")\n",
        "\n",
        "distribFreq = alt.Chart(dfGlobalcliBtoC).transform_density(\n",
        "    'freq_achat_mensuelle',\n",
        "    as_=['freq_achat_mensuelle', 'density']\n",
        ").mark_area(color='indianred',\n",
        "            fillOpacity=0.5,\n",
        "            stroke='indianred',\n",
        "            strokeWidth=2).encode(\n",
        "    x=\"freq_achat_mensuelle:Q\",\n",
        "    y='density:Q'\n",
        ")\n",
        "\n",
        "distribFreq_chart = distribFreq + line_freq\n",
        "\n",
        "combined_chart = alt.hconcat(distribAge_chart, distribFreq_chart)\n",
        "\n",
        "combined_chart.configure_axis(\n",
        "    labelFontSize=10,\n",
        "    titleFontSize=10\n",
        ").configure_legend(\n",
        "    title=None\n",
        ").configure_title(\n",
        "    fontSize=10\n",
        ")\n"
      ]
    },
    {
      "cell_type": "markdown",
      "metadata": {},
      "source": [
        "Ces deux graphiques confirment bien l'absence de normalité dans la distribution des deux variables que sont l'âge et la fréquence d'achat."
      ]
    },
    {
      "attachments": {},
      "cell_type": "markdown",
      "metadata": {},
      "source": [
        "Puisque nos deux variables ne suivent pas une distribution normale on va utiliser le test non paramétrique de Spearman afin de confirmer ou infirmer la corrélation entre la fréquence d'achat et l'âge des clients de la librairie\n",
        "\n",
        "\n",
        "On va dans un premier temps formuler les deux hypothèses H0 et H1 : \n",
        "\n",
        "   - H0 : Il n'y a pas de corrélation linéaire entre âge et la fréquence d'achats par session.\n",
        "   - H1 : Il y a corrélation linéaire entre âge et la fréquence d'achats par session."
      ]
    },
    {
      "cell_type": "code",
      "execution_count": null,
      "metadata": {},
      "outputs": [],
      "source": [
        "correlation, p_value = sp.stats.spearmanr(dfGlobalcliBtoC[\"freq_achat_mensuelle\"], dfGlobalcliBtoC[\"age\"])\n",
        "\n",
        "# Afficher le résultat du test de corrélation de Spearman\n",
        "print(\"Coefficient de corrélation de Spearman :\", round(correlation,2))\n",
        "print(\"p-value :\", round(p_value,2))"
      ]
    },
    {
      "attachments": {},
      "cell_type": "markdown",
      "metadata": {},
      "source": [
        "le resultat du test viens valider notre hypothèse qu'une corrélation linéaire existe bien entre âge et fréquence d'achats par mois, même si cette dernière reste très faible avec un coefficient Spearman de 0.12."
      ]
    },
    {
      "attachments": {},
      "cell_type": "markdown",
      "metadata": {
        "id": "jXS1tXfHe72I"
      },
      "source": [
        "#### Le panier moyen\n",
        "\n"
      ]
    },
    {
      "cell_type": "markdown",
      "metadata": {},
      "source": [
        "Afin d'analyser le lien entre l'âge et le panier moyen, on va également plotter ces donées dans un nuage de point :"
      ]
    },
    {
      "cell_type": "code",
      "execution_count": null,
      "metadata": {},
      "outputs": [],
      "source": [
        "# Création du nuage de points avec Altair\n",
        "panierMoyenAge_scatterplot = alt.Chart(dfGlobalcli).mark_circle(size=60).encode(\n",
        "    x='age',\n",
        "    y='panier_moyen',\n",
        "    color='panier_moyen',\n",
        "    tooltip=['age', 'panier_moyen']\n",
        ").properties(\n",
        "    width=400,\n",
        "    height=300\n",
        ")\n",
        "panierMoyenAge_scatterplot"
      ]
    },
    {
      "attachments": {},
      "cell_type": "markdown",
      "metadata": {},
      "source": [
        "Ce dernier semble souligner une corrélation assez nette entre panier moyen et age du client, vérifions si cette corrélation est statistiquement vérifiable à l'aide d'un test statsitique : "
      ]
    },
    {
      "attachments": {},
      "cell_type": "markdown",
      "metadata": {},
      "source": [
        "Dans un premier temps, on va tester la distribution de la variable panier_moyen :"
      ]
    },
    {
      "cell_type": "code",
      "execution_count": null,
      "metadata": {},
      "outputs": [],
      "source": [
        "# Création des données pour la distribution de fréquence d'achat\n",
        "X_freq = dfGlobalcliBtoC['panier_moyen']\n",
        "x_min_freq = 0\n",
        "x_max_freq = np.max(X_freq)\n",
        "mean_freq = np.mean(X_freq)\n",
        "std_freq = np.std(X_freq)\n",
        "x_freq = np.linspace(x_min_freq, x_max_freq, 100)\n",
        "y_freq = sp.stats.norm.pdf(x_freq, mean_freq, std_freq)\n",
        "\n",
        "# Création du dataframe pour la distribution de fréquence d'achat\n",
        "data_freq = pd.DataFrame({'x': x_freq, 'y': y_freq})\n",
        "\n",
        "# Graphique pour la distribution de fréquence d'achat\n",
        "line_freq = alt.Chart(data_freq).mark_line(color='blue').encode(\n",
        "    x='x',\n",
        "    y='y'\n",
        ").properties(\n",
        "    title='Panier_moyen : comparaison avec une distribution normale',\n",
        "    width=400,\n",
        "    height=300\n",
        ")\n",
        "\n",
        "distribFreq = alt.Chart(dfGlobalcliBtoC).transform_density(\n",
        "    'panier_moyen',\n",
        "    as_=['panier_moyen', 'density']\n",
        ").mark_area(color='indianred',\n",
        "            fillOpacity=0.5,\n",
        "            stroke='indianred',\n",
        "            strokeWidth=2).encode(\n",
        "    x=\"panier_moyen:Q\",\n",
        "    y='density:Q'\n",
        ")\n",
        "\n",
        "distribFreq_chart = distribFreq + line_freq\n",
        "distribFreq_chart "
      ]
    },
    {
      "cell_type": "code",
      "execution_count": null,
      "metadata": {},
      "outputs": [],
      "source": [
        "statistic, p_value = sp.stats.shapiro(dfGlobalcliBtoC['panier_moyen'])\n",
        "alpha = 0.05\n",
        "\n",
        "if p_value > alpha:\n",
        "    print(p_value, \"La variable panier moyen suit une distribution normale.\")\n",
        "else:\n",
        "    print(p_value, \"La variable panier moyen ne suit pas une distribution normale.\")\n"
      ]
    },
    {
      "attachments": {},
      "cell_type": "markdown",
      "metadata": {},
      "source": [
        "Nos deux variables ont une distribution non normale, on va donc devoir appliquer un test non paramétrique, celui de Pearson"
      ]
    },
    {
      "cell_type": "code",
      "execution_count": null,
      "metadata": {},
      "outputs": [],
      "source": [
        "correlation, p_value = sp.stats.spearmanr(dfGlobalcliBtoC[\"panier_moyen\"], dfGlobalcliBtoC[\"age\"])\n",
        "\n",
        "# Afficher le résultat du test de corrélation de Spearman\n",
        "print(\"Coefficient de corrélation de Spearman :\", round(correlation,2))\n",
        "print(\"p-value :\", round(p_value,2))"
      ]
    },
    {
      "attachments": {},
      "cell_type": "markdown",
      "metadata": {},
      "source": [
        "Le coéfficient de corrélation de Spearman viens confirmer ce que nous avions pu constater a l'oeil nu sur le nuage de point : une corrélation négative significative existe bien entre le panier moyen et l'age des clients.\n",
        "\n",
        "Les clients les plus jeunes (18-32 ans) ont tendances a acheter des paniers plus remplis que leurs ainés (33 ans et plus)"
      ]
    },
    {
      "attachments": {},
      "cell_type": "markdown",
      "metadata": {
        "id": "gOIQIrxcVAY4"
      },
      "source": [
        "#### Catégories des livres achetés"
      ]
    },
    {
      "attachments": {},
      "cell_type": "markdown",
      "metadata": {
        "id": "N6R-h4Gdc1CF"
      },
      "source": [
        "Calcul du CA dépensé par tranchage d'age et par catégorie"
      ]
    },
    {
      "cell_type": "code",
      "execution_count": null,
      "metadata": {},
      "outputs": [],
      "source": [
        "#repartition des achats par categ par tranche d'age \n",
        "catxTrancheAge = transactionsBtoC.groupby(['tranche_age', 'categ']).sum('price')\n",
        "catxTrancheAge = catxTrancheAge.reset_index()\n",
        "catxTrancheAge = catxTrancheAge.loc[:, ['tranche_age', 'categ', 'price']].rename(columns={'categ':'Catégories','price' : \"CA\"})\n",
        "catxTrancheAge['proportion en %'] = round(((catxTrancheAge['CA'] / catxTrancheAge.groupby('Catégories')['CA'].transform('sum')) * 100),2)\n",
        "catxTrancheAge.sort_values(by='Catégories')"
      ]
    },
    {
      "cell_type": "markdown",
      "metadata": {},
      "source": [
        "On va venir visualiser ce dataframe a l'aide d'un bar plot pour plus de lisibilité :"
      ]
    },
    {
      "cell_type": "code",
      "execution_count": null,
      "metadata": {},
      "outputs": [],
      "source": [
        "catxTrancheAge_bar = alt.Chart(catxTrancheAge).mark_bar(binSpacing=4).encode(\n",
        "x=alt.X('Catégories:N', axis=alt.Axis(labelAngle=0)),\n",
        "y='proportion en %',\n",
        "color='tranche_age:N',\n",
        "tooltip=['proportion en %','Catégories']\n",
        ").properties(width=100,height=400)\n",
        "catxTrancheAge_bar"
      ]
    },
    {
      "attachments": {},
      "cell_type": "markdown",
      "metadata": {},
      "source": [
        "Sur ce graph, il semblerait que la tranche d'age ait une corrélation avec la catégorie de livre achetée : \n",
        "- la catégorie 2 est majoritairement plébicité par les deux tranches les plus jeunes (18-24 et 25-34)\n",
        "- La catégorie 0 est a l'inverse majoritairement achetée par les tranches d'age supérieures (35-44 et 45-60)\n",
        "- la catégorie 1 est quand a elle mieux divisée entre chaque tranche d'age mais egalement la catégorie la plus achetée par les séniors(61+)"
      ]
    },
    {
      "cell_type": "markdown",
      "metadata": {},
      "source": [
        "On va vérifier cette dernière a l'aide d'un test de Khi2 sur ces deux variables qualitatives que sont les tranche d'âge et les catégories d'achat :"
      ]
    },
    {
      "cell_type": "code",
      "execution_count": null,
      "metadata": {},
      "outputs": [],
      "source": [
        "contingency_table = pd.crosstab(transactionsBtoC['tranche_age'], transactionsBtoC['categ'])\n",
        "\n",
        "# Effectuez le test du Chi carré\n",
        "chi2, p_value, _, _ = chi2_contingency(contingency_table)\n",
        "\n",
        "# Affichez les résultats\n",
        "print('Test du Chi carré :')\n",
        "print('Valeur Chi carré :', chi2)\n",
        "print('p-value :', p_value)"
      ]
    },
    {
      "cell_type": "code",
      "execution_count": null,
      "metadata": {},
      "outputs": [],
      "source": [
        "# Calcul du tableau de contingence\n",
        "contingency_table = pd.crosstab(transactionsBtoC['tranche_age'], transactionsBtoC['categ'])\n",
        "\n",
        "# Calcul du V de Cramer\n",
        "v = cramers_v(contingency_table)\n",
        "\n",
        "# Affichage du résultat\n",
        "print(\"V de Cramer :\", v)"
      ]
    },
    {
      "attachments": {},
      "cell_type": "markdown",
      "metadata": {},
      "source": [
        "le test de chi2 nous permet de confirmer qu'il existe une corrélation significative entre la tranche d'âge et la catégorie de livres achetés par les clients de la libraire (hors BtoB). Cette observation est cependant pondérée par le test du V de Cramer qui indique par son coéfficient de 0,37 que l'association entre les deux variables étudiées (Tranche d'age et catégorie) reste modérée."
      ]
    },
    {
      "cell_type": "markdown",
      "metadata": {},
      "source": [
        "En complément de cette première analyse, on va regarder également observer la répartition du volume d'achats par âge et par catégorie. On va visualiser a l'aide d'un nuage de point :"
      ]
    },
    {
      "cell_type": "code",
      "execution_count": null,
      "metadata": {},
      "outputs": [],
      "source": [
        "# Création du nuage de points avec Altair\n",
        "Categ_age_scatterplot = alt.Chart(transactionsBtoC).mark_circle(size=60).encode(\n",
        "    x='categ',\n",
        "    y='age',\n",
        "    color='count(age)',\n",
        "    tooltip=['count(age)','categ', 'age']\n",
        ").properties(\n",
        "    width=400,\n",
        "    height=300\n",
        ")\n",
        "Categ_age_scatterplot"
      ]
    },
    {
      "cell_type": "markdown",
      "metadata": {},
      "source": [
        "La même corrélation semble se dégager qu'avec les tranches d'âge : \n",
        "\n",
        "* Les clients de -30 ans semblent être ceux qui achètent le plus sur la catégorie 2 \n",
        "* Les clients entre 30 et 50 ans semblent acheter en majorité sur la catégorie 0 \n",
        "* La catégorie 1 semble répartie de manière plus égalitaire entre les âges\n",
        "\n",
        "Afin de vérifier une potentielle corrélation entre ces deux variables et en connaissance du fait de la non nomralité de la distrubtion de l'âge, on va utiliser le test non paramétrique de Kruskal-wallis :"
      ]
    },
    {
      "cell_type": "code",
      "execution_count": null,
      "metadata": {},
      "outputs": [],
      "source": [
        "kruskal_stat_cat_age, kruskal_pvalue_cat_age = sp.stats.kruskal(*[transactionsBtoC[transactionsBtoC['categ'] == cat]['age'] for cat in transactionsBtoC['categ'].unique()])\n",
        "\n",
        "print(\"Test de Kruskal-Wallis pour 'cat_age':\")\n",
        "print(\"Statistique de test de Kruskal-Wallis :\", kruskal_stat_cat_age)\n",
        "print(\"Valeur de p :\", kruskal_pvalue_cat_age)"
      ]
    },
    {
      "cell_type": "markdown",
      "metadata": {},
      "source": [
        "Le resultat de notre test de Kruskal-Wallis sur le lien entre la catégorie est l'âge démontre qu'une différence significative entre nos groupes existe belle et bien, avec une valeur de p inférieur a 0,05."
      ]
    },
    {
      "cell_type": "markdown",
      "metadata": {},
      "source": [
        "## Conclusion"
      ]
    },
    {
      "cell_type": "markdown",
      "metadata": {},
      "source": [
        "Suite aux différentes analyses réalisées sur la clientèle du site, nous avons pu établir que des corélations statistiquements prouvées liaient plusieurs indicateurs de performance clé du site (CA, fréquence d'achat, panier moyen, catégorie d'achat) avec l'âge des clients. \n",
        "\n",
        "De ces analyses émergent 3 profils de clients ayant des habitudes de consommation bien distinctes et dans lesquels on va pouvoir classer les utilisateurs du site pour mieux les adresser :\n",
        "\n",
        "\n",
        "**Les étudiants et jeunes actifs** (dont la tranche d'âge est située entre 18 et 32 ans)\n",
        "\n",
        "Ce profil comprends les clients ayant le plus fort panier moyen mais également les clients achetant le moins fréquemment.\n",
        "\n",
        "On constate sur ce graphique que les pics de consommation de cette cible sont en Juillet et Aout, en amont de la rentrée scolaire.\n",
        "\n",
        "Concernant cette cible deux actions me semblent intéressantes :\n",
        "\n",
        "* Adapter l'offre dédiée à cette cible (scolaire) a l'approche de la rentrée de septembre pour faire gonfler le chiffre d'affaire\n",
        "* Essayer de fidéliser cette clientèle à l'occasion des maronniers que sont la rentrée et la fin d'année en l'incitant à revenir sur le e-commerce pour ses loisirs sur d'autres periodes via de l'action commerciale (bon de réduction, frais de livraison offert etc...)\n",
        "\n",
        "**Les actifs** (dont la tranche d'âge est située entre 33 et 51 ans)\n",
        "\n",
        "Ce profil comprends les clients ayant généré le plus de CA au sein de la boutique en ligne, ce notamment grâce a une très forte fréquence d'achat malgré un panier moyen plus faible que les jeunes actifs & étudiants.\n",
        "\n",
        "Cette cible semble acheter souvent des produits des catégories 1 et 2 mais en petite quantitée à chaque fois. Pourquoi ne pas essayer de profiter de cette forte fréquence d'achat pour pousser ces clients à ajouter plus de produits à leur panier et ainsi générer plus de CA à l'aide d'actions commerciales ou d'une stratégie de prix revisitée par exemple.\n",
        "\n",
        "**Les seniors** (dont la tranche d'age et de 50 ans et plus)\n",
        "\n",
        "Cette cible regroupe les clients ayant le plus faible CA, avec une fréquence d'achat et un panier moyen dans la moyenne basse\n",
        "\n",
        "Elle semble être la moins adressée des trois par le e-commerce, que ce soit dans l'offre (les achats sont répartis entres les catégories 0 et 1, pas de catégorie de prédilection contrairement aux deux autres cibles) ou dans les actions de communication (faible CA, faible fréquence d'achat...)\n",
        "\n",
        "Il serait intéressant de comparer ces données avec leur équivalent sur les magasins physiques, cette cible etant probablement plus habituée au commerce qu'au e-commerce et en parallèle développer une offre leur permettant de compléter leur achats en magasin avec des achats sur le e-commerce. "
      ]
    }
  ],
  "metadata": {
    "colab": {
      "provenance": []
    },
    "kernelspec": {
      "display_name": "Python 3",
      "language": "python",
      "name": "python3"
    },
    "language_info": {
      "codemirror_mode": {
        "name": "ipython",
        "version": 3
      },
      "file_extension": ".py",
      "mimetype": "text/x-python",
      "name": "python",
      "nbconvert_exporter": "python",
      "pygments_lexer": "ipython3",
      "version": "3.10.11"
    },
    "vscode": {
      "interpreter": {
        "hash": "6527ffa120cf0b004f48855c41e8a400121bc925b626807121a14432af361ba5"
      }
    }
  },
  "nbformat": 4,
  "nbformat_minor": 0
}
